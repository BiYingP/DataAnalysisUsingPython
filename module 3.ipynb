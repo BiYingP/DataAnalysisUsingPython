{
 "cells": [
  {
   "cell_type": "markdown",
   "metadata": {
    "deletable": false,
    "editable": false,
    "nbgrader": {
     "cell_type": "markdown",
     "checksum": "c55e1fc9d5141e3b743b780e701c1b75",
     "grade": false,
     "grade_id": "cell-442f0c92124c18ef",
     "locked": true,
     "schema_version": 3,
     "solution": false,
     "task": false
    }
   },
   "source": [
    "## Module 3\n",
    "\n",
    "#### In this assignment, you will continue working on the movie data from IMDB.\n",
    "- The data includes movies and ratings from the IMDB website\n",
    "- Data File(s): imdb.xlsx\n",
    "\n",
    "#### Data file contains 3 sheets:\n",
    "- “imdb”: contains records of movies and ratings scraped from IMDB website\n",
    "- “countries”: contains the country (of origin) names\n",
    "- “directors”: contains the director names\n",
    "\n",
    "We have loaded the data as \"df\" for you. Follow the instructions and finish the rest."
   ]
  },
  {
   "cell_type": "code",
   "execution_count": 2,
   "metadata": {
    "deletable": false,
    "editable": false,
    "nbgrader": {
     "cell_type": "code",
     "checksum": "37b1739194dc68da1e455fbe1391a59e",
     "grade": true,
     "grade_id": "init_test",
     "locked": true,
     "points": 0,
     "schema_version": 3,
     "solution": false,
     "task": false
    }
   },
   "outputs": [],
   "source": [
    "###########################################################\n",
    "### EXECUTE THIS CELL BEFORE YOU TO TEST YOUR SOLUTIONS ###\n",
    "###########################################################\n",
    "\n",
    "import imp, os, sys\n",
    "sol = imp.load_compiled(\"solutions\", \"./solutions.py\")\n",
    "sol.get_solutions(\"imdb.xlsx\")\n",
    "from nose.tools import assert_equal\n",
    "from pandas.util.testing import assert_frame_equal, assert_series_equal"
   ]
  },
  {
   "cell_type": "code",
   "execution_count": 3,
   "metadata": {
    "deletable": false,
    "editable": false,
    "nbgrader": {
     "cell_type": "code",
     "checksum": "47c7d74a4c086fb6dfdb4fd6b5ec58cd",
     "grade": true,
     "grade_id": "init_user",
     "locked": true,
     "points": 0,
     "schema_version": 3,
     "solution": false,
     "task": false
    }
   },
   "outputs": [
    {
     "name": "stdout",
     "output_type": "stream",
     "text": [
      "Data Loading Finished.\n"
     ]
    }
   ],
   "source": [
    "# Loading the data\n",
    "import pandas as pd\n",
    "\n",
    "xls = pd.ExcelFile('imdb.xlsx')\n",
    "df = xls.parse('imdb')\n",
    "df_directors = xls.parse('directors')\n",
    "df_countries = xls.parse('countries')\n",
    "\n",
    "print(\"Data Loading Finished.\")"
   ]
  },
  {
   "cell_type": "code",
   "execution_count": 4,
   "metadata": {
    "deletable": false,
    "nbgrader": {
     "cell_type": "code",
     "checksum": "934c927f4b01e0159476418f3ead5d3b",
     "grade": false,
     "grade_id": "q1",
     "locked": false,
     "schema_version": 3,
     "solution": true,
     "task": false
    }
   },
   "outputs": [
    {
     "data": {
      "text/plain": [
       "(178, 12)"
      ]
     },
     "execution_count": 4,
     "metadata": {},
     "output_type": "execute_result"
    }
   ],
   "source": [
    "\"\"\" Q1: \n",
    "Join three Dataframes: df, df_directors, and df_countries with an inner join.\n",
    "Store the joined DataFrames in df.\n",
    "\n",
    "Here are the steps:\n",
    "1. Merge df with df_countries and assign it df\n",
    "2. Merge df with df_directors and assign it to df again\n",
    "There might be errors if the merge is not in this order, so please be careful.\n",
    "\n",
    "\"\"\"\n",
    "\n",
    "# your code here\n",
    "# df.head()\n",
    "df = pd.merge(left=df, right=df_countries, how=\"inner\",left_on=\"country_id\", right_on=\"id\")\n",
    "# df.head()\n",
    "df = pd.merge(left=df, right=df_directors, how=\"inner\", left_on=\"director_id\", right_on=\"id\")\n",
    "# After the join, the resulting Dataframe should have 12 columns.\n",
    "df.shape"
   ]
  },
  {
   "cell_type": "code",
   "execution_count": 5,
   "metadata": {
    "deletable": false,
    "editable": false,
    "nbgrader": {
     "cell_type": "code",
     "checksum": "6418dc30719348533bb2ef27248c1aec",
     "grade": true,
     "grade_id": "q1_test",
     "locked": true,
     "points": 2,
     "schema_version": 3,
     "solution": false,
     "task": false
    }
   },
   "outputs": [
    {
     "name": "stdout",
     "output_type": "stream",
     "text": [
      "Success!\n"
     ]
    }
   ],
   "source": [
    "assert_equal(df.shape, sol.df.shape)\n",
    "print(\"Success!\")"
   ]
  },
  {
   "cell_type": "code",
   "execution_count": 6,
   "metadata": {
    "deletable": false,
    "nbgrader": {
     "cell_type": "code",
     "checksum": "2f675b233dd003c91a91165e1a5efecf",
     "grade": false,
     "grade_id": "q2",
     "locked": false,
     "schema_version": 3,
     "solution": true,
     "task": false
    }
   },
   "outputs": [
    {
     "data": {
      "text/plain": [
       "0    The Shawshank RedemptionÊ\n",
       "1              The Green MileÊ\n",
       "2               The GodfatherÊ\n",
       "3      The Godfather: Part IIÊ\n",
       "4              Apocalypse NowÊ\n",
       "5             The Dark KnightÊ\n",
       "6                   InceptionÊ\n",
       "7                InterstellarÊ\n",
       "8                     MementoÊ\n",
       "9                The PrestigeÊ\n",
       "Name: movie_title, dtype: object"
      ]
     },
     "execution_count": 6,
     "metadata": {},
     "output_type": "execute_result"
    }
   ],
   "source": [
    "\"\"\" Q2: \n",
    "Save the first ten rows of movie titles in a variable called first10, then print it\n",
    "\"\"\"\n",
    "\n",
    "# your code here\n",
    "\n",
    "first10 = df[\"movie_title\"].head(10)\n",
    "first10"
   ]
  },
  {
   "cell_type": "code",
   "execution_count": 7,
   "metadata": {
    "deletable": false,
    "editable": false,
    "nbgrader": {
     "cell_type": "code",
     "checksum": "2cc3487c2c16ed3bed05a26577b31c24",
     "grade": true,
     "grade_id": "q2_test",
     "locked": true,
     "points": 1,
     "schema_version": 3,
     "solution": false,
     "task": false
    }
   },
   "outputs": [
    {
     "name": "stdout",
     "output_type": "stream",
     "text": [
      "Success!\n"
     ]
    }
   ],
   "source": [
    "assert_series_equal(first10, sol.first10)\n",
    "print(\"Success!\")"
   ]
  },
  {
   "cell_type": "code",
   "execution_count": 8,
   "metadata": {
    "deletable": false,
    "nbgrader": {
     "cell_type": "code",
     "checksum": "c5a4aff2be0a202928c900a6879205ab",
     "grade": false,
     "grade_id": "q3",
     "locked": false,
     "schema_version": 3,
     "solution": true,
     "task": false
    }
   },
   "outputs": [
    {
     "data": {
      "text/plain": [
       "0    The Shawshank Redemption\n",
       "1              The Green Mile\n",
       "2               The Godfather\n",
       "3      The Godfather: Part II\n",
       "4              Apocalypse Now\n",
       "5             The Dark Knight\n",
       "6                   Inception\n",
       "7                Interstellar\n",
       "8                     Memento\n",
       "9                The Prestige\n",
       "Name: movie_title, dtype: object"
      ]
     },
     "execution_count": 8,
     "metadata": {},
     "output_type": "execute_result"
    }
   ],
   "source": [
    "\"\"\" Q3: \n",
    "There's an extra character at the end of each movie title. \n",
    "Remove it from the data using str.replace.\n",
    "And print the first ten rows of movie titles again. \n",
    "\"\"\"\n",
    "\n",
    "# your code here\n",
    "\n",
    "df[\"movie_title\"] = df[\"movie_title\"].str.replace(\"Ê\", \"\")\n",
    "df[\"movie_title\"].head(10)\n"
   ]
  },
  {
   "cell_type": "code",
   "execution_count": 9,
   "metadata": {
    "deletable": false,
    "editable": false,
    "nbgrader": {
     "cell_type": "code",
     "checksum": "17f3f65e0f9ab4918e1de3cf7f237674",
     "grade": true,
     "grade_id": "q3_test",
     "locked": true,
     "points": 1,
     "schema_version": 3,
     "solution": false,
     "task": false
    }
   },
   "outputs": [
    {
     "name": "stdout",
     "output_type": "stream",
     "text": [
      "Success!\n"
     ]
    }
   ],
   "source": [
    "assert_frame_equal(df, sol.df)\n",
    "print(\"Success!\")"
   ]
  },
  {
   "cell_type": "code",
   "execution_count": 10,
   "metadata": {
    "deletable": false,
    "nbgrader": {
     "cell_type": "code",
     "checksum": "261cfefc65ac0190b49ff14c891f1320",
     "grade": false,
     "grade_id": "q4",
     "locked": false,
     "schema_version": 3,
     "solution": true,
     "task": false
    }
   },
   "outputs": [
    {
     "name": "stdout",
     "output_type": "stream",
     "text": [
      "Christopher Nolan    7\n",
      "Name: director_name, dtype: int64\n"
     ]
    }
   ],
   "source": [
    "\"\"\" Q4:\n",
    "Who is the director with the most movies? First get the number of movies per \"director_name\", then save the director's name\n",
    "and count as a series of length 1 called \"director_with_most\"\n",
    "\"\"\"\n",
    "\n",
    "# your code here\n",
    "directors = df[\"director_name\"].value_counts()\n",
    "# count\n",
    "director_with_most = directors.loc[lambda x: x == x.max()]\n",
    "print(director_with_most)"
   ]
  },
  {
   "cell_type": "code",
   "execution_count": 11,
   "metadata": {
    "deletable": false,
    "editable": false,
    "nbgrader": {
     "cell_type": "code",
     "checksum": "0438fa08ab0ceff6014a77aab7dc5b99",
     "grade": true,
     "grade_id": "q4_test",
     "locked": true,
     "points": 1,
     "schema_version": 3,
     "solution": false,
     "task": false
    }
   },
   "outputs": [
    {
     "name": "stdout",
     "output_type": "stream",
     "text": [
      "Success!\n"
     ]
    }
   ],
   "source": [
    "assert_series_equal(director_with_most, sol.director_with_most)\n",
    "print(\"Success!\")"
   ]
  },
  {
   "cell_type": "code",
   "execution_count": 25,
   "metadata": {
    "deletable": false,
    "nbgrader": {
     "cell_type": "code",
     "checksum": "3be80348f7afc8234eff3b7cef5957ca",
     "grade": false,
     "grade_id": "q5",
     "locked": false,
     "schema_version": 3,
     "solution": true,
     "task": false
    }
   },
   "outputs": [
    {
     "data": {
      "text/html": [
       "<div>\n",
       "<style scoped>\n",
       "    .dataframe tbody tr th:only-of-type {\n",
       "        vertical-align: middle;\n",
       "    }\n",
       "\n",
       "    .dataframe tbody tr th {\n",
       "        vertical-align: top;\n",
       "    }\n",
       "\n",
       "    .dataframe thead th {\n",
       "        text-align: right;\n",
       "    }\n",
       "</style>\n",
       "<table border=\"1\" class=\"dataframe\">\n",
       "  <thead>\n",
       "    <tr style=\"text-align: right;\">\n",
       "      <th></th>\n",
       "      <th>movie_title</th>\n",
       "      <th>imdb_score</th>\n",
       "    </tr>\n",
       "  </thead>\n",
       "  <tbody>\n",
       "    <tr>\n",
       "      <th>5</th>\n",
       "      <td>The Dark Knight</td>\n",
       "      <td>9.0</td>\n",
       "    </tr>\n",
       "    <tr>\n",
       "      <th>6</th>\n",
       "      <td>Inception</td>\n",
       "      <td>8.8</td>\n",
       "    </tr>\n",
       "    <tr>\n",
       "      <th>7</th>\n",
       "      <td>Interstellar</td>\n",
       "      <td>8.6</td>\n",
       "    </tr>\n",
       "    <tr>\n",
       "      <th>8</th>\n",
       "      <td>Memento</td>\n",
       "      <td>8.5</td>\n",
       "    </tr>\n",
       "    <tr>\n",
       "      <th>9</th>\n",
       "      <td>The Prestige</td>\n",
       "      <td>8.5</td>\n",
       "    </tr>\n",
       "    <tr>\n",
       "      <th>10</th>\n",
       "      <td>The Dark Knight Rises</td>\n",
       "      <td>8.5</td>\n",
       "    </tr>\n",
       "    <tr>\n",
       "      <th>11</th>\n",
       "      <td>Batman Begins</td>\n",
       "      <td>8.3</td>\n",
       "    </tr>\n",
       "  </tbody>\n",
       "</table>\n",
       "</div>"
      ],
      "text/plain": [
       "              movie_title  imdb_score\n",
       "5         The Dark Knight         9.0\n",
       "6               Inception         8.8\n",
       "7            Interstellar         8.6\n",
       "8                 Memento         8.5\n",
       "9            The Prestige         8.5\n",
       "10  The Dark Knight Rises         8.5\n",
       "11          Batman Begins         8.3"
      ]
     },
     "execution_count": 25,
     "metadata": {},
     "output_type": "execute_result"
    }
   ],
   "source": [
    "\"\"\"Q5:\n",
    "Save all of this director's movies and their ratings in a variable called all_movies_ratings, then print this variable.\n",
    "(The director with the most movies you got from the last question.)\n",
    "\"\"\"\n",
    "\n",
    "# your code here\n",
    "nolan = df[\"director_name\"] == \"Christopher Nolan\"\n",
    "\n",
    "all_movies_ratings = df[nolan][[\"movie_title\", \"imdb_score\"]]\n",
    "all_movies_ratings"
   ]
  },
  {
   "cell_type": "code",
   "execution_count": 26,
   "metadata": {
    "deletable": false,
    "editable": false,
    "nbgrader": {
     "cell_type": "code",
     "checksum": "4cf4ca56b90991677f896679d3b37fcc",
     "grade": true,
     "grade_id": "q5_test",
     "locked": true,
     "points": 1,
     "schema_version": 3,
     "solution": false,
     "task": false
    }
   },
   "outputs": [
    {
     "name": "stdout",
     "output_type": "stream",
     "text": [
      "Success!\n"
     ]
    }
   ],
   "source": [
    "assert_frame_equal(all_movies_ratings, sol.all_movies_ratings)\n",
    "print(\"Success!\")"
   ]
  },
  {
   "cell_type": "code",
   "execution_count": 47,
   "metadata": {
    "deletable": false,
    "nbgrader": {
     "cell_type": "code",
     "checksum": "e3e551311b5ac0f2ebab76f6dc84d6b8",
     "grade": false,
     "grade_id": "q6",
     "locked": false,
     "schema_version": 3,
     "solution": true,
     "task": false
    }
   },
   "outputs": [
    {
     "data": {
      "text/html": [
       "<div>\n",
       "<style scoped>\n",
       "    .dataframe tbody tr th:only-of-type {\n",
       "        vertical-align: middle;\n",
       "    }\n",
       "\n",
       "    .dataframe tbody tr th {\n",
       "        vertical-align: top;\n",
       "    }\n",
       "\n",
       "    .dataframe thead th {\n",
       "        text-align: right;\n",
       "    }\n",
       "</style>\n",
       "<table border=\"1\" class=\"dataframe\">\n",
       "  <thead>\n",
       "    <tr style=\"text-align: right;\">\n",
       "      <th></th>\n",
       "      <th>movie_title</th>\n",
       "      <th>director_id</th>\n",
       "      <th>country_id</th>\n",
       "      <th>content_rating</th>\n",
       "      <th>title_year</th>\n",
       "      <th>imdb_score</th>\n",
       "      <th>gross</th>\n",
       "      <th>duration</th>\n",
       "      <th>id_x</th>\n",
       "      <th>country</th>\n",
       "      <th>id_y</th>\n",
       "      <th>director_name</th>\n",
       "    </tr>\n",
       "  </thead>\n",
       "  <tbody>\n",
       "    <tr>\n",
       "      <th>42</th>\n",
       "      <td>The Usual Suspects</td>\n",
       "      <td>12</td>\n",
       "      <td>1</td>\n",
       "      <td>R</td>\n",
       "      <td>1995</td>\n",
       "      <td>8.6</td>\n",
       "      <td>23272306</td>\n",
       "      <td>106</td>\n",
       "      <td>1</td>\n",
       "      <td>USA</td>\n",
       "      <td>12</td>\n",
       "      <td>Bryan Singer</td>\n",
       "    </tr>\n",
       "  </tbody>\n",
       "</table>\n",
       "</div>"
      ],
      "text/plain": [
       "           movie_title  director_id  country_id content_rating  title_year  \\\n",
       "42  The Usual Suspects           12           1              R        1995   \n",
       "\n",
       "    imdb_score     gross  duration  id_x country  id_y director_name  \n",
       "42         8.6  23272306       106     1     USA    12  Bryan Singer  "
      ]
     },
     "execution_count": 47,
     "metadata": {},
     "output_type": "execute_result"
    }
   ],
   "source": [
    "\"\"\"Q6:\n",
    "Recommend a **random** movie that has a rating of over 8.3. \n",
    "Store the random recommendation in a variable called \"rand_goodmovie\".\n",
    "What is the title and imdb_score of your recommendation?\n",
    " \n",
    "Here are the steps:\n",
    "1. Query the data ('df' DataFrame) for movies with a rating over 8.3 (imdb_score > 8.3)\n",
    "2. Create a random integer index location to get a single movie recommendation\n",
    "3. Save the random movie recommendation in a DataFrame called 'rand_goodmovie'\n",
    "4. Save the title of the random movie recommendation in a variable \"random_title\" and print it\n",
    "5. Save the imdb_score of the random movie recommendation in a variable \"random_imdb_score\" and print it\n",
    "\n",
    "\"\"\"\n",
    "# Do not modify this part, it's needed for grading\n",
    "import random\n",
    "random.seed(0)\n",
    "\n",
    "# your code here\n",
    "rand_goodmovie = df[df[\"imdb_score\"] > 8.3]\n",
    "rand_goodmovie = rand_goodmovie.sample()\n",
    "rand_goodmovie"
   ]
  },
  {
   "cell_type": "code",
   "execution_count": 45,
   "metadata": {},
   "outputs": [],
   "source": [
    "random_title = rand_goodmovie[\"movie_title\"]\n",
    "random_imdb_score = rand_goodmovie[\"imdb_score\"]"
   ]
  },
  {
   "cell_type": "code",
   "execution_count": 41,
   "metadata": {
    "deletable": false,
    "editable": false,
    "nbgrader": {
     "cell_type": "code",
     "checksum": "c08ad62de5024ea39666df040bb168d9",
     "grade": true,
     "grade_id": "q6_test",
     "locked": true,
     "points": 3,
     "schema_version": 3,
     "solution": false,
     "task": false
    }
   },
   "outputs": [
    {
     "name": "stdout",
     "output_type": "stream",
     "text": [
      "Success!\n"
     ]
    }
   ],
   "source": [
    "from nose.tools import assert_in\n",
    "assert_in(rand_goodmovie[[\"movie_title\", \"imdb_score\"]].values, sol.possible_goodmovies[[\"movie_title\", \"imdb_score\"]].values)\n",
    "assert_equal(random_title.iloc[0], rand_goodmovie[\"movie_title\"].iloc[0])\n",
    "assert_equal(random_imdb_score.iloc[0], rand_goodmovie[\"imdb_score\"].iloc[0])\n",
    "print(\"Success!\")\n"
   ]
  },
  {
   "cell_type": "code",
   "execution_count": null,
   "metadata": {},
   "outputs": [],
   "source": []
  }
 ],
 "metadata": {
  "kernelspec": {
   "display_name": "Python 3",
   "language": "python",
   "name": "python3"
  },
  "language_info": {
   "codemirror_mode": {
    "name": "ipython",
    "version": 3
   },
   "file_extension": ".py",
   "mimetype": "text/x-python",
   "name": "python",
   "nbconvert_exporter": "python",
   "pygments_lexer": "ipython3",
   "version": "3.7.6"
  }
 },
 "nbformat": 4,
 "nbformat_minor": 4
}
