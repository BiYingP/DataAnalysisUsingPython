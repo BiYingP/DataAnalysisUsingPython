{
 "cells": [
  {
   "cell_type": "markdown",
   "metadata": {
    "colab_type": "text",
    "deletable": false,
    "editable": false,
    "id": "mzQwSSNJ5FIs",
    "nbgrader": {
     "cell_type": "markdown",
     "checksum": "33e8773f788dded90fc7b941d5abeb6f",
     "grade": false,
     "grade_id": "cell-334d05a29449b61c",
     "locked": true,
     "schema_version": 3,
     "solution": false,
     "task": false
    }
   },
   "source": [
    "## Module 4\n",
    "\n",
    "#### In this assignment, you will continue working on the movie data from IMDB.\n",
    "- The data includes movies and ratings from the IMDB website\n",
    "- Data File(s): imdb.xlsx\n",
    "\n",
    "#### Data file contains 3 sheets:\n",
    "- “imdb”: contains records of movies and ratings scraped from IMDB website\n",
    "- “countries”: contains the country (of origin) names\n",
    "- “directors”: contains the director names\n",
    "\n",
    "We have loaded and joined the data as \"df\" for you. Follow the instructions and finish the rest part."
   ]
  },
  {
   "cell_type": "code",
   "execution_count": 1,
   "metadata": {
    "colab": {},
    "colab_type": "code",
    "deletable": false,
    "editable": false,
    "id": "I0dbjkXF5FIs",
    "nbgrader": {
     "cell_type": "code",
     "checksum": "37b1739194dc68da1e455fbe1391a59e",
     "grade": true,
     "grade_id": "init_test",
     "locked": true,
     "points": 0,
     "schema_version": 3,
     "solution": false,
     "task": false
    }
   },
   "outputs": [],
   "source": [
    "###########################################################\n",
    "### EXECUTE THIS CELL BEFORE YOU TO TEST YOUR SOLUTIONS ###\n",
    "###########################################################\n",
    "\n",
    "import imp, os, sys\n",
    "sol = imp.load_compiled(\"solutions\", \"./solutions.py\")\n",
    "sol.get_solutions(\"imdb.xlsx\")\n",
    "from nose.tools import assert_equal\n",
    "from pandas.util.testing import assert_frame_equal, assert_series_equal"
   ]
  },
  {
   "cell_type": "code",
   "execution_count": 2,
   "metadata": {
    "colab": {},
    "colab_type": "code",
    "deletable": false,
    "editable": false,
    "id": "tWa9wRgq5FIv",
    "nbgrader": {
     "cell_type": "code",
     "checksum": "56b17977c11220f23b60c8d579395272",
     "grade": true,
     "grade_id": "init_user",
     "locked": true,
     "points": 0,
     "schema_version": 3,
     "solution": false,
     "task": false
    },
    "outputId": "2075cc76-0458-4c8b-cfd5-54d5662fa0f7"
   },
   "outputs": [
    {
     "name": "stdout",
     "output_type": "stream",
     "text": [
      "Finished.\n"
     ]
    }
   ],
   "source": [
    "# Loading the data\n",
    "import pandas as pd\n",
    "\n",
    "xls = pd.ExcelFile('imdb.xlsx')\n",
    "df = xls.parse('imdb')\n",
    "df_directors = xls.parse('directors')\n",
    "df_countries = xls.parse('countries')\n",
    "\n",
    "df = pd.merge(left=df, right=df_countries, \n",
    "              how='inner', left_on='country_id', \n",
    "              right_on='id')\n",
    "\n",
    "df = pd.merge(left=df, right=df_directors, \n",
    "              how='inner', left_on='director_id', \n",
    "              right_on='id')\n",
    "\n",
    "print(\"Finished.\")"
   ]
  },
  {
   "cell_type": "code",
   "execution_count": 3,
   "metadata": {
    "colab": {},
    "colab_type": "code",
    "deletable": false,
    "id": "q3XkiRNH5FIx",
    "nbgrader": {
     "cell_type": "code",
     "checksum": "429f23e75beece059b21cb62bd6e34b7",
     "grade": false,
     "grade_id": "q1",
     "locked": false,
     "schema_version": 3,
     "solution": true,
     "task": false
    },
    "outputId": "b13e238c-5086-42dd-801a-94dcfa256c1e"
   },
   "outputs": [
    {
     "data": {
      "text/html": [
       "<div>\n",
       "<style scoped>\n",
       "    .dataframe tbody tr th:only-of-type {\n",
       "        vertical-align: middle;\n",
       "    }\n",
       "\n",
       "    .dataframe tbody tr th {\n",
       "        vertical-align: top;\n",
       "    }\n",
       "\n",
       "    .dataframe thead th {\n",
       "        text-align: right;\n",
       "    }\n",
       "</style>\n",
       "<table border=\"1\" class=\"dataframe\">\n",
       "  <thead>\n",
       "    <tr style=\"text-align: right;\">\n",
       "      <th></th>\n",
       "      <th>imdb_score</th>\n",
       "      <th>gross</th>\n",
       "    </tr>\n",
       "  </thead>\n",
       "  <tbody>\n",
       "    <tr>\n",
       "      <th>count</th>\n",
       "      <td>178.000000</td>\n",
       "      <td>1.780000e+02</td>\n",
       "    </tr>\n",
       "    <tr>\n",
       "      <th>mean</th>\n",
       "      <td>8.294382</td>\n",
       "      <td>1.030402e+08</td>\n",
       "    </tr>\n",
       "    <tr>\n",
       "      <th>std</th>\n",
       "      <td>0.266960</td>\n",
       "      <td>1.242549e+08</td>\n",
       "    </tr>\n",
       "    <tr>\n",
       "      <th>min</th>\n",
       "      <td>8.000000</td>\n",
       "      <td>8.060000e+03</td>\n",
       "    </tr>\n",
       "    <tr>\n",
       "      <th>25%</th>\n",
       "      <td>8.100000</td>\n",
       "      <td>1.318510e+07</td>\n",
       "    </tr>\n",
       "    <tr>\n",
       "      <th>50%</th>\n",
       "      <td>8.200000</td>\n",
       "      <td>5.194371e+07</td>\n",
       "    </tr>\n",
       "    <tr>\n",
       "      <th>75%</th>\n",
       "      <td>8.475000</td>\n",
       "      <td>1.522436e+08</td>\n",
       "    </tr>\n",
       "    <tr>\n",
       "      <th>max</th>\n",
       "      <td>9.300000</td>\n",
       "      <td>6.232795e+08</td>\n",
       "    </tr>\n",
       "  </tbody>\n",
       "</table>\n",
       "</div>"
      ],
      "text/plain": [
       "       imdb_score         gross\n",
       "count  178.000000  1.780000e+02\n",
       "mean     8.294382  1.030402e+08\n",
       "std      0.266960  1.242549e+08\n",
       "min      8.000000  8.060000e+03\n",
       "25%      8.100000  1.318510e+07\n",
       "50%      8.200000  5.194371e+07\n",
       "75%      8.475000  1.522436e+08\n",
       "max      9.300000  6.232795e+08"
      ]
     },
     "execution_count": 3,
     "metadata": {},
     "output_type": "execute_result"
    }
   ],
   "source": [
    "\"\"\" Q1: \n",
    "Get the summary statistics for imdb_score and gross, then use the describe() function to summarize this visually. Save the\n",
    "result in a variable called score_gross_description and print it.\n",
    "\"\"\"\n",
    "\n",
    "# your code here\n",
    "df.describe()\n",
    "score_gross_description = df[[\"imdb_score\", \"gross\"]].describe()\n",
    "score_gross_description\n",
    "# type(score_gross_description)"
   ]
  },
  {
   "cell_type": "code",
   "execution_count": 4,
   "metadata": {
    "colab": {},
    "colab_type": "code",
    "deletable": false,
    "editable": false,
    "id": "x4YkLaTr5FIz",
    "nbgrader": {
     "cell_type": "code",
     "checksum": "55be92ed79401ccb20c229e1f4437145",
     "grade": true,
     "grade_id": "q1_test",
     "locked": true,
     "points": 1,
     "schema_version": 3,
     "solution": false,
     "task": false
    }
   },
   "outputs": [
    {
     "name": "stdout",
     "output_type": "stream",
     "text": [
      "Success!\n"
     ]
    }
   ],
   "source": [
    "assert_frame_equal(score_gross_description, sol.score_gross_description)\n",
    "print(\"Success!\")"
   ]
  },
  {
   "cell_type": "code",
   "execution_count": 5,
   "metadata": {
    "colab": {},
    "colab_type": "code",
    "deletable": false,
    "id": "SCUE4CSX5FI1",
    "nbgrader": {
     "cell_type": "code",
     "checksum": "665213ae59ffe2e721030543ff06abf9",
     "grade": false,
     "grade_id": "q2",
     "locked": false,
     "schema_version": 3,
     "solution": true,
     "task": false
    },
    "outputId": "1ab3acd5-4057-4f21-ac54-1448ad728624"
   },
   "outputs": [
    {
     "data": {
      "text/plain": [
       "8.6"
      ]
     },
     "execution_count": 5,
     "metadata": {},
     "output_type": "execute_result"
    }
   ],
   "source": [
    "\"\"\"Q2:\n",
    "What is the average rating of the director Christopher Nolan's movies? Save this value in a variable called nolan_mean and \n",
    "print.\n",
    "\"\"\"\n",
    "\n",
    "# your code here\n",
    "nolan = df[df[\"director_name\"] == \"Christopher Nolan\"]\n",
    "nolan_mean = nolan[\"imdb_score\"].mean()\n",
    "nolan_mean"
   ]
  },
  {
   "cell_type": "code",
   "execution_count": 6,
   "metadata": {
    "colab": {},
    "colab_type": "code",
    "deletable": false,
    "editable": false,
    "id": "noUKdJj15FI3",
    "nbgrader": {
     "cell_type": "code",
     "checksum": "6505b8ca93a723d84963d44cffa625f0",
     "grade": true,
     "grade_id": "q2_test",
     "locked": true,
     "points": 1,
     "schema_version": 3,
     "solution": false,
     "task": false
    }
   },
   "outputs": [],
   "source": [
    "assert_equal(nolan_mean, sol.nolan_mean)"
   ]
  },
  {
   "cell_type": "code",
   "execution_count": 7,
   "metadata": {
    "colab": {},
    "colab_type": "code",
    "deletable": false,
    "id": "W17SFy3A5FI5",
    "nbgrader": {
     "cell_type": "code",
     "checksum": "d12d07f8fb66a6526f57754afbf7c90d",
     "grade": false,
     "grade_id": "q3",
     "locked": false,
     "schema_version": 3,
     "solution": true,
     "task": false
    },
    "outputId": "783e143c-b5a6-49c9-af90-335a175affd8"
   },
   "outputs": [
    {
     "data": {
      "text/plain": [
       "director_name\n",
       "Akira Kurosawa           8.70\n",
       "Alejandro Amenabar       8.10\n",
       "Alejandro G. Inarritu    8.10\n",
       "Alfred Hitchcock         8.50\n",
       "Andrew Stanton           8.30\n",
       "                         ... \n",
       "Victor Fleming           8.15\n",
       "Vincent Paronnaud        8.00\n",
       "Wes Anderson             8.10\n",
       "Wolfgang Petersen        8.40\n",
       "Woody Allen              8.10\n",
       "Name: imdb_score, Length: 117, dtype: float64"
      ]
     },
     "execution_count": 7,
     "metadata": {},
     "output_type": "execute_result"
    }
   ],
   "source": [
    "\"\"\"Q3: \n",
    "Create a series called 'directors' that contains each director's name and his or her average rating.  Print out the type of your variable.\n",
    "Use the 'directors' series to find the average rating for Steven Spielberg.  Print the value.\n",
    "\"\"\"\n",
    "\n",
    "# your code here\n",
    "# df.head()\n",
    "directors = df.groupby(\"director_name\")[\"imdb_score\"].mean()\n",
    "type(directors)\n",
    "directors\n"
   ]
  },
  {
   "cell_type": "code",
   "execution_count": 8,
   "metadata": {},
   "outputs": [
    {
     "name": "stdout",
     "output_type": "stream",
     "text": [
      "8.48\n"
     ]
    }
   ],
   "source": [
    "print(directors[\"Steven Spielberg\"])"
   ]
  },
  {
   "cell_type": "code",
   "execution_count": 9,
   "metadata": {
    "colab": {},
    "colab_type": "code",
    "deletable": false,
    "editable": false,
    "id": "_eyQLeMD5FI7",
    "nbgrader": {
     "cell_type": "code",
     "checksum": "189e6cca39a3c7f082ec863425ad1aef",
     "grade": true,
     "grade_id": "q3_test",
     "locked": true,
     "points": 1,
     "schema_version": 3,
     "solution": false,
     "task": false
    }
   },
   "outputs": [
    {
     "name": "stdout",
     "output_type": "stream",
     "text": [
      "Success!\n"
     ]
    }
   ],
   "source": [
    "assert_series_equal(directors, sol.directors)\n",
    "print(\"Success!\")"
   ]
  },
  {
   "cell_type": "code",
   "execution_count": 10,
   "metadata": {
    "colab": {},
    "colab_type": "code",
    "deletable": false,
    "id": "PsCllKn-5FI8",
    "nbgrader": {
     "cell_type": "code",
     "checksum": "451d86f8e2fcac74e4ab13c9e490ec54",
     "grade": false,
     "grade_id": "q4",
     "locked": false,
     "schema_version": 3,
     "solution": true,
     "task": false
    },
    "outputId": "cf090157-e849-471d-b073-e54c9601ccae"
   },
   "outputs": [],
   "source": [
    "\"\"\"Q4:\n",
    "Select the non-USA movies made after 1960 by Hayao Miyazaki.\n",
    "Save the result in a DataFrame called 'miyazaki', then print it.\n",
    "\n",
    "Here are the steps:\n",
    "1. Query the data ('df' DataFrame) based on the following conditions:\n",
    "- Non-USA movies (country_id != 1)\n",
    "- Movies made after 1960 (title_year > 1960)\n",
    "- Movies made by director Hayao Miyazaki (director_id == 46)\n",
    "2. Save the filtered data in a DataFrame called 'miyazaki' and print it\n",
    "\n",
    "\"\"\"\n",
    "\n",
    "# your code here\n",
    "non_usa_movies = df[\"country_id\"] != 1\n",
    "# non_usa_movies"
   ]
  },
  {
   "cell_type": "code",
   "execution_count": 11,
   "metadata": {},
   "outputs": [],
   "source": [
    "after_1960_movies = df[\"title_year\"] > 1960\n",
    "# after_1960_movies"
   ]
  },
  {
   "cell_type": "code",
   "execution_count": 12,
   "metadata": {},
   "outputs": [],
   "source": [
    "hayao = df[\"director_id\"] == 46\n",
    "# hayao"
   ]
  },
  {
   "cell_type": "code",
   "execution_count": 13,
   "metadata": {},
   "outputs": [
    {
     "data": {
      "text/html": [
       "<div>\n",
       "<style scoped>\n",
       "    .dataframe tbody tr th:only-of-type {\n",
       "        vertical-align: middle;\n",
       "    }\n",
       "\n",
       "    .dataframe tbody tr th {\n",
       "        vertical-align: top;\n",
       "    }\n",
       "\n",
       "    .dataframe thead th {\n",
       "        text-align: right;\n",
       "    }\n",
       "</style>\n",
       "<table border=\"1\" class=\"dataframe\">\n",
       "  <thead>\n",
       "    <tr style=\"text-align: right;\">\n",
       "      <th></th>\n",
       "      <th>movie_title</th>\n",
       "      <th>director_id</th>\n",
       "      <th>country_id</th>\n",
       "      <th>content_rating</th>\n",
       "      <th>title_year</th>\n",
       "      <th>imdb_score</th>\n",
       "      <th>gross</th>\n",
       "      <th>duration</th>\n",
       "      <th>id_x</th>\n",
       "      <th>country</th>\n",
       "      <th>id_y</th>\n",
       "      <th>director_name</th>\n",
       "    </tr>\n",
       "  </thead>\n",
       "  <tbody>\n",
       "    <tr>\n",
       "      <th>152</th>\n",
       "      <td>Spirited Away</td>\n",
       "      <td>46</td>\n",
       "      <td>4</td>\n",
       "      <td>PG</td>\n",
       "      <td>2001</td>\n",
       "      <td>8.6</td>\n",
       "      <td>10049886</td>\n",
       "      <td>125</td>\n",
       "      <td>4</td>\n",
       "      <td>Japan</td>\n",
       "      <td>46</td>\n",
       "      <td>Hayao Miyazaki</td>\n",
       "    </tr>\n",
       "    <tr>\n",
       "      <th>153</th>\n",
       "      <td>Princess Mononoke</td>\n",
       "      <td>46</td>\n",
       "      <td>4</td>\n",
       "      <td>PG-13</td>\n",
       "      <td>1997</td>\n",
       "      <td>8.4</td>\n",
       "      <td>2298191</td>\n",
       "      <td>134</td>\n",
       "      <td>4</td>\n",
       "      <td>Japan</td>\n",
       "      <td>46</td>\n",
       "      <td>Hayao Miyazaki</td>\n",
       "    </tr>\n",
       "    <tr>\n",
       "      <th>154</th>\n",
       "      <td>Howl's Moving Castle</td>\n",
       "      <td>46</td>\n",
       "      <td>4</td>\n",
       "      <td>PG</td>\n",
       "      <td>2004</td>\n",
       "      <td>8.2</td>\n",
       "      <td>4710455</td>\n",
       "      <td>119</td>\n",
       "      <td>4</td>\n",
       "      <td>Japan</td>\n",
       "      <td>46</td>\n",
       "      <td>Hayao Miyazaki</td>\n",
       "    </tr>\n",
       "  </tbody>\n",
       "</table>\n",
       "</div>"
      ],
      "text/plain": [
       "              movie_title  director_id  country_id content_rating  title_year  \\\n",
       "152         Spirited Away           46           4             PG        2001   \n",
       "153     Princess Mononoke           46           4          PG-13        1997   \n",
       "154  Howl's Moving Castle           46           4             PG        2004   \n",
       "\n",
       "     imdb_score     gross  duration  id_x country  id_y   director_name  \n",
       "152         8.6  10049886       125     4   Japan    46  Hayao Miyazaki  \n",
       "153         8.4   2298191       134     4   Japan    46  Hayao Miyazaki  \n",
       "154         8.2   4710455       119     4   Japan    46  Hayao Miyazaki  "
      ]
     },
     "execution_count": 13,
     "metadata": {},
     "output_type": "execute_result"
    }
   ],
   "source": [
    "# miyazaki = df[(df[\"country_id\"] != 1) & (df[\"title_year\"] > 1960) & (df[\"director_id\"] == 46)]\n",
    "miyazaki = df[non_usa_movies & after_1960_movies & hayao]\n",
    "miyazaki"
   ]
  },
  {
   "cell_type": "code",
   "execution_count": 14,
   "metadata": {
    "colab": {},
    "colab_type": "code",
    "deletable": false,
    "editable": false,
    "id": "jw8c3ELh5FI-",
    "nbgrader": {
     "cell_type": "code",
     "checksum": "094cce90f792cfb635e6e80b4daeacda",
     "grade": true,
     "grade_id": "q4_test",
     "locked": true,
     "points": 2,
     "schema_version": 3,
     "solution": false,
     "task": false
    }
   },
   "outputs": [
    {
     "name": "stdout",
     "output_type": "stream",
     "text": [
      "Success!\n"
     ]
    }
   ],
   "source": [
    "assert_frame_equal(miyazaki, sol.miyazaki)\n",
    "print(\"Success!\")"
   ]
  },
  {
   "cell_type": "code",
   "execution_count": 20,
   "metadata": {},
   "outputs": [
    {
     "data": {
      "text/html": [
       "<div>\n",
       "<style scoped>\n",
       "    .dataframe tbody tr th:only-of-type {\n",
       "        vertical-align: middle;\n",
       "    }\n",
       "\n",
       "    .dataframe tbody tr th {\n",
       "        vertical-align: top;\n",
       "    }\n",
       "\n",
       "    .dataframe thead th {\n",
       "        text-align: right;\n",
       "    }\n",
       "</style>\n",
       "<table border=\"1\" class=\"dataframe\">\n",
       "  <thead>\n",
       "    <tr style=\"text-align: right;\">\n",
       "      <th></th>\n",
       "      <th>movie_title</th>\n",
       "      <th>director_id</th>\n",
       "      <th>country_id</th>\n",
       "      <th>content_rating</th>\n",
       "      <th>title_year</th>\n",
       "      <th>imdb_score</th>\n",
       "      <th>gross</th>\n",
       "      <th>duration</th>\n",
       "      <th>id_x</th>\n",
       "      <th>country</th>\n",
       "      <th>id_y</th>\n",
       "      <th>director_name</th>\n",
       "    </tr>\n",
       "  </thead>\n",
       "  <tbody>\n",
       "    <tr>\n",
       "      <th>0</th>\n",
       "      <td>The Shawshank Redemption</td>\n",
       "      <td>34</td>\n",
       "      <td>1</td>\n",
       "      <td>R</td>\n",
       "      <td>1994</td>\n",
       "      <td>9.3</td>\n",
       "      <td>28341469</td>\n",
       "      <td>142</td>\n",
       "      <td>1</td>\n",
       "      <td>USA</td>\n",
       "      <td>34</td>\n",
       "      <td>Frank Darabont</td>\n",
       "    </tr>\n",
       "    <tr>\n",
       "      <th>1</th>\n",
       "      <td>The Green Mile</td>\n",
       "      <td>34</td>\n",
       "      <td>1</td>\n",
       "      <td>R</td>\n",
       "      <td>1999</td>\n",
       "      <td>8.5</td>\n",
       "      <td>136801374</td>\n",
       "      <td>189</td>\n",
       "      <td>1</td>\n",
       "      <td>USA</td>\n",
       "      <td>34</td>\n",
       "      <td>Frank Darabont</td>\n",
       "    </tr>\n",
       "    <tr>\n",
       "      <th>2</th>\n",
       "      <td>The Godfather</td>\n",
       "      <td>33</td>\n",
       "      <td>1</td>\n",
       "      <td>R</td>\n",
       "      <td>1972</td>\n",
       "      <td>9.2</td>\n",
       "      <td>134821952</td>\n",
       "      <td>175</td>\n",
       "      <td>1</td>\n",
       "      <td>USA</td>\n",
       "      <td>33</td>\n",
       "      <td>Francis Ford Coppola</td>\n",
       "    </tr>\n",
       "    <tr>\n",
       "      <th>3</th>\n",
       "      <td>The Godfather: Part II</td>\n",
       "      <td>33</td>\n",
       "      <td>1</td>\n",
       "      <td>R</td>\n",
       "      <td>1974</td>\n",
       "      <td>9.0</td>\n",
       "      <td>57300000</td>\n",
       "      <td>220</td>\n",
       "      <td>1</td>\n",
       "      <td>USA</td>\n",
       "      <td>33</td>\n",
       "      <td>Francis Ford Coppola</td>\n",
       "    </tr>\n",
       "    <tr>\n",
       "      <th>4</th>\n",
       "      <td>Apocalypse Now</td>\n",
       "      <td>33</td>\n",
       "      <td>1</td>\n",
       "      <td>R</td>\n",
       "      <td>1979</td>\n",
       "      <td>8.5</td>\n",
       "      <td>78800000</td>\n",
       "      <td>289</td>\n",
       "      <td>1</td>\n",
       "      <td>USA</td>\n",
       "      <td>33</td>\n",
       "      <td>Francis Ford Coppola</td>\n",
       "    </tr>\n",
       "  </tbody>\n",
       "</table>\n",
       "</div>"
      ],
      "text/plain": [
       "                movie_title  director_id  country_id content_rating  \\\n",
       "0  The Shawshank Redemption           34           1              R   \n",
       "1            The Green Mile           34           1              R   \n",
       "2             The Godfather           33           1              R   \n",
       "3    The Godfather: Part II           33           1              R   \n",
       "4            Apocalypse Now           33           1              R   \n",
       "\n",
       "   title_year  imdb_score      gross  duration  id_x country  id_y  \\\n",
       "0        1994         9.3   28341469       142     1     USA    34   \n",
       "1        1999         8.5  136801374       189     1     USA    34   \n",
       "2        1972         9.2  134821952       175     1     USA    33   \n",
       "3        1974         9.0   57300000       220     1     USA    33   \n",
       "4        1979         8.5   78800000       289     1     USA    33   \n",
       "\n",
       "          director_name  \n",
       "0        Frank Darabont  \n",
       "1        Frank Darabont  \n",
       "2  Francis Ford Coppola  \n",
       "3  Francis Ford Coppola  \n",
       "4  Francis Ford Coppola  "
      ]
     },
     "execution_count": 20,
     "metadata": {},
     "output_type": "execute_result"
    }
   ],
   "source": [
    "df.head()"
   ]
  },
  {
   "cell_type": "code",
   "execution_count": 16,
   "metadata": {
    "colab": {},
    "colab_type": "code",
    "deletable": false,
    "id": "czwAwh0X5FJA",
    "nbgrader": {
     "cell_type": "code",
     "checksum": "a04dc3a5bd96c00c606d6bc7850844ff",
     "grade": false,
     "grade_id": "q5",
     "locked": false,
     "schema_version": 3,
     "solution": true,
     "task": false
    },
    "outputId": "b9a232c4-462c-446b-eba0-b7e703ae5466"
   },
   "outputs": [
    {
     "data": {
      "text/html": [
       "<div>\n",
       "<style scoped>\n",
       "    .dataframe tbody tr th:only-of-type {\n",
       "        vertical-align: middle;\n",
       "    }\n",
       "\n",
       "    .dataframe tbody tr th {\n",
       "        vertical-align: top;\n",
       "    }\n",
       "\n",
       "    .dataframe thead tr th {\n",
       "        text-align: left;\n",
       "    }\n",
       "\n",
       "    .dataframe thead tr:last-of-type th {\n",
       "        text-align: right;\n",
       "    }\n",
       "</style>\n",
       "<table border=\"1\" class=\"dataframe\">\n",
       "  <thead>\n",
       "    <tr>\n",
       "      <th></th>\n",
       "      <th></th>\n",
       "      <th>median</th>\n",
       "    </tr>\n",
       "    <tr>\n",
       "      <th></th>\n",
       "      <th></th>\n",
       "      <th>imdb_score</th>\n",
       "    </tr>\n",
       "    <tr>\n",
       "      <th>country</th>\n",
       "      <th>director_name</th>\n",
       "      <th></th>\n",
       "    </tr>\n",
       "  </thead>\n",
       "  <tbody>\n",
       "    <tr>\n",
       "      <th>Argentina</th>\n",
       "      <th>Juan Jose Campanella</th>\n",
       "      <td>8.20</td>\n",
       "    </tr>\n",
       "    <tr>\n",
       "      <th>Australia</th>\n",
       "      <th>George Miller</th>\n",
       "      <td>8.10</td>\n",
       "    </tr>\n",
       "    <tr>\n",
       "      <th rowspan=\"2\" valign=\"top\">Brazil</th>\n",
       "      <th>Fernando Meirelles</th>\n",
       "      <td>8.70</td>\n",
       "    </tr>\n",
       "    <tr>\n",
       "      <th>Jose Padilha</th>\n",
       "      <td>8.10</td>\n",
       "    </tr>\n",
       "    <tr>\n",
       "      <th>Canada</th>\n",
       "      <th>Denis Villeneuve</th>\n",
       "      <td>8.20</td>\n",
       "    </tr>\n",
       "    <tr>\n",
       "      <th>...</th>\n",
       "      <th>...</th>\n",
       "      <td>...</td>\n",
       "    </tr>\n",
       "    <tr>\n",
       "      <th rowspan=\"4\" valign=\"top\">USA</th>\n",
       "      <th>Tony Scott</th>\n",
       "      <td>8.00</td>\n",
       "    </tr>\n",
       "    <tr>\n",
       "      <th>Victor Fleming</th>\n",
       "      <td>8.15</td>\n",
       "    </tr>\n",
       "    <tr>\n",
       "      <th>Wes Anderson</th>\n",
       "      <td>8.10</td>\n",
       "    </tr>\n",
       "    <tr>\n",
       "      <th>Woody Allen</th>\n",
       "      <td>8.10</td>\n",
       "    </tr>\n",
       "    <tr>\n",
       "      <th>West Germany</th>\n",
       "      <th>Wolfgang Petersen</th>\n",
       "      <td>8.40</td>\n",
       "    </tr>\n",
       "  </tbody>\n",
       "</table>\n",
       "<p>125 rows × 1 columns</p>\n",
       "</div>"
      ],
      "text/plain": [
       "                                      median\n",
       "                                  imdb_score\n",
       "country      director_name                  \n",
       "Argentina    Juan Jose Campanella       8.20\n",
       "Australia    George Miller              8.10\n",
       "Brazil       Fernando Meirelles         8.70\n",
       "             Jose Padilha               8.10\n",
       "Canada       Denis Villeneuve           8.20\n",
       "...                                      ...\n",
       "USA          Tony Scott                 8.00\n",
       "             Victor Fleming             8.15\n",
       "             Wes Anderson               8.10\n",
       "             Woody Allen                8.10\n",
       "West Germany Wolfgang Petersen          8.40\n",
       "\n",
       "[125 rows x 1 columns]"
      ]
     },
     "execution_count": 16,
     "metadata": {},
     "output_type": "execute_result"
    }
   ],
   "source": [
    "\"\"\"Q5: \n",
    "Create a Pivot Table that shows the median rating for each director, grouped by their respective countries. Name your variable\n",
    "'pivot_agg'\n",
    "\"\"\"\n",
    "\n",
    "# your code here\n",
    "pivot_agg = pd.pivot_table(df, index = [\"country\",\"director_name\"], values = [\"imdb_score\"], aggfunc=[\"median\"])\n",
    "pivot_agg"
   ]
  },
  {
   "cell_type": "code",
   "execution_count": 17,
   "metadata": {
    "colab": {},
    "colab_type": "code",
    "deletable": false,
    "editable": false,
    "id": "1cGe7tlP5FJC",
    "nbgrader": {
     "cell_type": "code",
     "checksum": "2e11ff63ad8e5dd93eb8bc77a0bdc53a",
     "grade": true,
     "grade_id": "q5_test",
     "locked": true,
     "points": 1,
     "schema_version": 3,
     "solution": false,
     "task": false
    }
   },
   "outputs": [
    {
     "name": "stdout",
     "output_type": "stream",
     "text": [
      "Success!\n"
     ]
    }
   ],
   "source": [
    "assert_frame_equal(pivot_agg, sol.pivot_agg)\n",
    "print(\"Success!\")"
   ]
  },
  {
   "cell_type": "code",
   "execution_count": 29,
   "metadata": {
    "colab": {},
    "colab_type": "code",
    "deletable": false,
    "id": "g8qTYSNG5FJD",
    "nbgrader": {
     "cell_type": "code",
     "checksum": "3e138ad0d5e6406c4f81ad57728a8f1f",
     "grade": false,
     "grade_id": "q6",
     "locked": false,
     "schema_version": 3,
     "solution": true,
     "task": false
    },
    "outputId": "09fb0cf6-c2c8-4100-d71b-b4b655bd3658"
   },
   "outputs": [
    {
     "data": {
      "text/html": [
       "<div>\n",
       "<style scoped>\n",
       "    .dataframe tbody tr th:only-of-type {\n",
       "        vertical-align: middle;\n",
       "    }\n",
       "\n",
       "    .dataframe tbody tr th {\n",
       "        vertical-align: top;\n",
       "    }\n",
       "\n",
       "    .dataframe thead th {\n",
       "        text-align: right;\n",
       "    }\n",
       "</style>\n",
       "<table border=\"1\" class=\"dataframe\">\n",
       "  <thead>\n",
       "    <tr style=\"text-align: right;\">\n",
       "      <th></th>\n",
       "      <th>movie_title</th>\n",
       "      <th>director_id</th>\n",
       "      <th>country_id</th>\n",
       "      <th>content_rating</th>\n",
       "      <th>title_year</th>\n",
       "      <th>imdb_score</th>\n",
       "      <th>gross</th>\n",
       "      <th>duration</th>\n",
       "      <th>id_x</th>\n",
       "      <th>country</th>\n",
       "      <th>id_y</th>\n",
       "      <th>director_name</th>\n",
       "    </tr>\n",
       "  </thead>\n",
       "  <tbody>\n",
       "    <tr>\n",
       "      <th>51</th>\n",
       "      <td>Gladiator</td>\n",
       "      <td>90</td>\n",
       "      <td>1</td>\n",
       "      <td>R</td>\n",
       "      <td>2000</td>\n",
       "      <td>8.5</td>\n",
       "      <td>187670866</td>\n",
       "      <td>171</td>\n",
       "      <td>1</td>\n",
       "      <td>USA</td>\n",
       "      <td>90</td>\n",
       "      <td>Ridley Scott</td>\n",
       "    </tr>\n",
       "  </tbody>\n",
       "</table>\n",
       "</div>"
      ],
      "text/plain": [
       "   movie_title  director_id  country_id content_rating  title_year  \\\n",
       "51   Gladiator           90           1              R        2000   \n",
       "\n",
       "    imdb_score      gross  duration  id_x country  id_y director_name  \n",
       "51         8.5  187670866       171     1     USA    90  Ridley Scott  "
      ]
     },
     "execution_count": 29,
     "metadata": {},
     "output_type": "execute_result"
    }
   ],
   "source": [
    "\"\"\"Q6:\n",
    "How long did the movie Gladiator aim to keep your attention? Save the series with this information\n",
    "in a variable called 'gladiator_duration', then print it.\n",
    "\"\"\"\n",
    "\n",
    "# your code here\n",
    "df.head()\n",
    "gladiator = df[df[\"movie_title\"] == \"Gladiator\"]\n",
    "gladiator"
   ]
  },
  {
   "cell_type": "code",
   "execution_count": 33,
   "metadata": {},
   "outputs": [
    {
     "data": {
      "text/plain": [
       "51    171\n",
       "Name: duration, dtype: int64"
      ]
     },
     "execution_count": 33,
     "metadata": {},
     "output_type": "execute_result"
    }
   ],
   "source": [
    "gladiator_duration = df[df[\"movie_title\"] == \"Gladiator\"][\"duration\"]\n",
    "# gladiator_duration = gladiator[\"duration\"]\n",
    "gladiator_duration"
   ]
  },
  {
   "cell_type": "code",
   "execution_count": 34,
   "metadata": {
    "colab": {},
    "colab_type": "code",
    "deletable": false,
    "editable": false,
    "id": "PJTKmuVn5FJF",
    "nbgrader": {
     "cell_type": "code",
     "checksum": "863228142a56de6bd4414063dbadff75",
     "grade": true,
     "grade_id": "q6_test",
     "locked": true,
     "points": 1,
     "schema_version": 3,
     "solution": false,
     "task": false
    }
   },
   "outputs": [
    {
     "name": "stdout",
     "output_type": "stream",
     "text": [
      "Success!\n"
     ]
    }
   ],
   "source": [
    "assert_series_equal(gladiator_duration, sol.gladiator_duration)\n",
    "print(\"Success!\")"
   ]
  },
  {
   "cell_type": "code",
   "execution_count": null,
   "metadata": {},
   "outputs": [],
   "source": []
  }
 ],
 "metadata": {
  "colab": {
   "name": "Module 3 solutions.ipynb",
   "provenance": []
  },
  "kernelspec": {
   "display_name": "Python 3",
   "language": "python",
   "name": "python3"
  },
  "language_info": {
   "codemirror_mode": {
    "name": "ipython",
    "version": 3
   },
   "file_extension": ".py",
   "mimetype": "text/x-python",
   "name": "python",
   "nbconvert_exporter": "python",
   "pygments_lexer": "ipython3",
   "version": "3.7.6"
  }
 },
 "nbformat": 4,
 "nbformat_minor": 1
}
